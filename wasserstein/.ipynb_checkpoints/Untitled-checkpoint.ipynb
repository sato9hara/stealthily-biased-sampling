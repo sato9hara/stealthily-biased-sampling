{
 "cells": [
  {
   "cell_type": "code",
   "execution_count": 1,
   "metadata": {},
   "outputs": [],
   "source": [
    "import numpy as np\n",
    "import subprocess\n",
    "from sklearn.datasets import load_svmlight_file, dump_svmlight_file"
   ]
  },
  {
   "cell_type": "code",
   "execution_count": 63,
   "metadata": {},
   "outputs": [
    {
     "name": "stdout",
     "output_type": "stream",
     "text": [
      "[ 1.04691522  1.10316573  1.92141878 -0.14057852 -0.21049165 -0.04394984\n",
      " -0.24904235 -0.16498899 -0.26625763 -0.02236627  0.66323812 -0.18703584\n",
      " -0.29267465 -0.20729298 -0.18617505 -0.20755522 -0.43822048 -0.11250879\n",
      " -0.69610385 -0.23633602 -0.04363046 -0.38518738  7.55906971 -0.53727069\n",
      " -0.40146041 -0.92630737 -0.11521236  1.45173007 -0.18444303 -0.18064093\n",
      " -0.2503982   2.78781811 -0.37293686 -0.38020735 -0.17856443 -0.21222931\n",
      " -0.25973776 -0.3327775  -0.07504356 -0.38106825 -0.14028478 -0.35834823\n",
      " -0.17281816 -0.22257179 -0.82605616  1.70209169 -0.18152449 -0.42057813\n",
      " -0.34560781 -0.22674689 -0.09793424 -0.17945693 -0.33481285 -0.08923512\n",
      "  0.41909513 -0.1069072  -0.08692914 -0.21883442  0.30203731 -0.1395418 ]\n",
      "[ 1.26705271 -0.41081622  1.53227856 -0.14057852 -0.21049165 -0.04394984\n",
      "  4.01538139 -0.16498899 -0.26625763 -0.02236627 -1.5077541  -0.18703584\n",
      " -0.29267465 -0.20729298 -0.18617505 -0.20755522 -0.43822048 -0.11250879\n",
      " -0.69610385  4.2312636  -0.04363046 -0.38518738 -0.13229141 -0.53727069\n",
      " -0.40146041  1.07955527 -0.11521236 -0.68883329 -0.18444303 -0.18064093\n",
      "  3.99363901 -0.35870346 -0.37293686 -0.38020735 -0.17856443 -0.21222931\n",
      " -0.25973776 -0.3327775  -0.07504356 -0.38106825 -0.14028478 -0.35834823\n",
      " -0.17281816 -0.22257179  1.21057145 -0.58751241 -0.18152449 -0.42057813\n",
      " -0.34560781 -0.22674689 -0.09793424 -0.17945693 -0.33481285 -0.08923512\n",
      "  0.41909513 -0.1069072  -0.08692914 -0.21883442  0.30203731 -0.1395418 ]\n"
     ]
    }
   ],
   "source": [
    "data1 = np.array(load_svmlight_file('./LogReg_input1.txt')[0].todense()) + 1e-10\n",
    "data2 = np.array(load_svmlight_file('./LogReg_input2.txt')[0].todense()) + 1e-10\n",
    "\n",
    "print(data1[0, :])\n",
    "print(data2[0, :])"
   ]
  },
  {
   "cell_type": "code",
   "execution_count": 64,
   "metadata": {},
   "outputs": [],
   "source": [
    "dump_svmlight_file(data1, np.zeros(data1.shape[0]), './tmp1.txt')\n",
    "dump_svmlight_file(data2, np.zeros(data1.shape[0]), './tmp2.txt')"
   ]
  },
  {
   "cell_type": "code",
   "execution_count": 65,
   "metadata": {},
   "outputs": [
    {
     "data": {
      "text/plain": [
       "0"
      ]
     },
     "execution_count": 65,
     "metadata": {},
     "output_type": "execute_result"
    }
   ],
   "source": [
    "subprocess.call('./main ./tmp1.txt ./tmp2.txt > ./tmp_out.txt', shell=True)"
   ]
  },
  {
   "cell_type": "code",
   "execution_count": 66,
   "metadata": {},
   "outputs": [
    {
     "name": "stdout",
     "output_type": "stream",
     "text": [
      "33.4839\n"
     ]
    }
   ],
   "source": [
    "d = np.loadtxt('./tmp_out.txt')\n",
    "print(d)"
   ]
  },
  {
   "cell_type": "code",
   "execution_count": null,
   "metadata": {},
   "outputs": [],
   "source": []
  }
 ],
 "metadata": {
  "kernelspec": {
   "display_name": "Python 3",
   "language": "python",
   "name": "python3"
  },
  "language_info": {
   "codemirror_mode": {
    "name": "ipython",
    "version": 3
   },
   "file_extension": ".py",
   "mimetype": "text/x-python",
   "name": "python",
   "nbconvert_exporter": "python",
   "pygments_lexer": "ipython3",
   "version": "3.6.5"
  }
 },
 "nbformat": 4,
 "nbformat_minor": 2
}
