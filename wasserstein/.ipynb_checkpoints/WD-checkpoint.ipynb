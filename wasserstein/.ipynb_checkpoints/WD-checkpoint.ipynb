{
 "cells": [
  {
   "cell_type": "code",
   "execution_count": 9,
   "metadata": {},
   "outputs": [],
   "source": [
    "import numpy as np\n",
    "import subprocess\n",
    "from sklearn.datasets import dump_svmlight_file"
   ]
  },
  {
   "cell_type": "code",
   "execution_count": 34,
   "metadata": {},
   "outputs": [],
   "source": [
    "def computeWD(X1, X2, prefix='tmp'):\n",
    "    assert X1.shape[1] == X2.shape[1]\n",
    "    dump_svmlight_file(X1, np.zeros(X1.shape[0]), './%s_input1.txt' % (prefix,))\n",
    "    dump_svmlight_file(X2, np.zeros(X2.shape[0]), './%s_input2.txt' % (prefix,))\n",
    "    cmd = './main ./%s_input1.txt ./%s_input2.txt > %s_output.txt' % (prefix, prefix, prefix)\n",
    "    proc = subprocess.call(cmd , shell=True)\n",
    "    res = np.loadtxt('./%s_output.txt' % (prefix,))\n",
    "    return res"
   ]
  },
  {
   "cell_type": "code",
   "execution_count": 38,
   "metadata": {},
   "outputs": [],
   "source": [
    "np.random.seed(4)\n",
    "X1 = np.random.randn(100, 2)+1\n",
    "X2 = np.random.randn(200, 2)"
   ]
  },
  {
   "cell_type": "code",
   "execution_count": 39,
   "metadata": {},
   "outputs": [
    {
     "name": "stdout",
     "output_type": "stream",
     "text": [
      "1.82592\n",
      "1.82592\n"
     ]
    }
   ],
   "source": [
    "print(computeWD(X1, X2))\n",
    "print(computeWD(X2, X1))"
   ]
  },
  {
   "cell_type": "code",
   "execution_count": null,
   "metadata": {},
   "outputs": [],
   "source": []
  }
 ],
 "metadata": {
  "kernelspec": {
   "display_name": "Python 3",
   "language": "python",
   "name": "python3"
  },
  "language_info": {
   "codemirror_mode": {
    "name": "ipython",
    "version": 3
   },
   "file_extension": ".py",
   "mimetype": "text/x-python",
   "name": "python",
   "nbconvert_exporter": "python",
   "pygments_lexer": "ipython3",
   "version": "3.6.4"
  }
 },
 "nbformat": 4,
 "nbformat_minor": 2
}
