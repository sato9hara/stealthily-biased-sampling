{
 "cells": [
  {
   "cell_type": "markdown",
   "metadata": {},
   "source": [
    "## This notebook contains a sample code for the COMPAS data experiment in Section 5.2.\n",
    "\n",
    "Before running the code, please check README.md and install LEMON."
   ]
  },
  {
   "cell_type": "code",
   "execution_count": 1,
   "metadata": {},
   "outputs": [],
   "source": [
    "import numpy as np\n",
    "import pandas as pd\n",
    "from matplotlib import pyplot as plt\n",
    "from sklearn import feature_extraction\n",
    "from sklearn import preprocessing\n",
    "from sklearn.model_selection import train_test_split\n",
    "from sklearn.preprocessing import StandardScaler\n",
    "import stealth_sampling"
   ]
  },
  {
   "cell_type": "markdown",
   "metadata": {},
   "source": [
    "### Functions"
   ]
  },
  {
   "cell_type": "code",
   "execution_count": 2,
   "metadata": {},
   "outputs": [],
   "source": [
    "# split data to bins (s, y) = (1, 1), (1, 0), (0, 1), (0, 0)\n",
    "def split_to_four(X, S, Y):\n",
    "    Z = np.c_[X, S, Y]\n",
    "    Z_pos_pos = Z[np.logical_and(S, Y), :]\n",
    "    Z_pos_neg = Z[np.logical_and(S, np.logical_not(Y)), :]\n",
    "    Z_neg_pos = Z[np.logical_and(np.logical_not(S), Y), :]\n",
    "    Z_neg_neg = Z[np.logical_and(np.logical_not(S), np.logical_not(Y)), :]\n",
    "    Z = [Z_pos_pos, Z_pos_neg, Z_neg_pos, Z_neg_neg]\n",
    "    return Z\n",
    "\n",
    "# compute demographic parity\n",
    "def demographic_parity(W):\n",
    "    p_pos = np.mean(np.concatenate(W[:2]))\n",
    "    p_neg = np.mean(np.concatenate(W[2:]))\n",
    "    return np.abs(p_pos - p_neg)\n",
    "\n",
    "# compute the sampling size from each bin\n",
    "def computeK(Z, Nsample, sampled_spos, sampled_ypos):\n",
    "    Kpp = Nsample*sampled_spos*sampled_ypos[0]\n",
    "    Kpn = Nsample*sampled_spos*(1-sampled_ypos[0])\n",
    "    Knp = Nsample*(1-sampled_spos)*sampled_ypos[1]\n",
    "    Knn = Nsample*(1-sampled_spos)*(1-sampled_ypos[1])\n",
    "    K = [Kpp, Kpn, Knp, Knn]\n",
    "    kratio = min([min(1, z.shape[0]/k) for (z, k) in zip(Z, K)])\n",
    "    Kpp = int(np.floor(Nsample*kratio*sampled_spos*sampled_ypos[0]))\n",
    "    Kpn = int(np.floor(Nsample*kratio*sampled_spos*(1-sampled_ypos[0])))\n",
    "    Knp = int(np.floor(Nsample*kratio*(1-sampled_spos)*sampled_ypos[1]))\n",
    "    Knn = int(np.floor(Nsample*kratio*(1-sampled_spos)*(1-sampled_ypos[1])))\n",
    "    K = [max([k, 1]) for k in [Kpp, Kpn, Knp, Knn]]\n",
    "    return K\n",
    "\n",
    "# case-contrl sampling\n",
    "def case_control_sampling(X, K):\n",
    "    q = [(K[i]/sum(K)) * np.ones(x.shape[0]) / x.shape[0] for i, x in enumerate(X)]\n",
    "    return q\n",
    "\n",
    "# compute wasserstein distance\n",
    "def compute_wasserstein(X1, S1, X2, S2, timeout=10.0):\n",
    "    dx = stealth_sampling.compute_wasserstein(X1, X2, path='./', prefix='compas', timeout=timeout)\n",
    "    dx_s1 = stealth_sampling.compute_wasserstein(X1[S1>0.5, :], X2[S2>0.5, :], path='./', prefix='compas', timeout=timeout)\n",
    "    dx_s0 = stealth_sampling.compute_wasserstein(X1[S1<0.5, :], X2[S2<0.5, :], path='./', prefix='compas', timeout=timeout)\n",
    "    return dx, dx_s1, dx_s0"
   ]
  },
  {
   "cell_type": "markdown",
   "metadata": {},
   "source": [
    "### Fetch data and preprocess\n",
    "We modified [https://github.com/mbilalzafar/fair-classification/blob/master/disparate_mistreatment/propublica_compas_data_demo/load_compas_data.py]"
   ]
  },
  {
   "cell_type": "code",
   "execution_count": 3,
   "metadata": {},
   "outputs": [],
   "source": [
    "url = 'https://raw.githubusercontent.com/propublica/compas-analysis/master/compas-scores-two-years.csv'\n",
    "feature_list = ['age_cat', 'race', 'sex', 'priors_count', 'c_charge_degree', 'two_year_recid']\n",
    "sensitive = 'race'\n",
    "label = 'score_text'\n",
    "\n",
    "# fetch data\n",
    "df = pd.read_table(url, sep=',')\n",
    "df = df.dropna(subset=['days_b_screening_arrest'])\n",
    "\n",
    "# convert to np array\n",
    "data = df.to_dict('list')\n",
    "for k in data.keys():\n",
    "    data[k] = np.array(data[k])\n",
    "\n",
    "# filtering records\n",
    "idx = np.logical_and(data['days_b_screening_arrest']<=30, data['days_b_screening_arrest']>=-30)\n",
    "idx = np.logical_and(idx, data['is_recid'] != -1)\n",
    "idx = np.logical_and(idx, data['c_charge_degree'] != 'O')\n",
    "idx = np.logical_and(idx, data['score_text'] != 'NA')\n",
    "idx = np.logical_and(idx, np.logical_or(data['race'] == 'African-American', data['race'] == 'Caucasian'))\n",
    "for k in data.keys():\n",
    "    data[k] = data[k][idx]\n",
    "    \n",
    "# label Y\n",
    "Y = 1 - np.logical_not(data[label]=='Low').astype(np.int32)\n",
    "\n",
    "# feature X, sensitive feature S\n",
    "X = []\n",
    "for feature in feature_list:\n",
    "    vals = data[feature]\n",
    "    if feature == 'priors_count':\n",
    "        vals = [float(v) for v in vals]\n",
    "        vals = preprocessing.scale(vals)\n",
    "        vals = np.reshape(vals, (Y.size, -1))\n",
    "    else:\n",
    "        lb = preprocessing.LabelBinarizer()\n",
    "        lb.fit(vals)\n",
    "        vals = lb.transform(vals)\n",
    "    if feature == sensitive:\n",
    "        S = vals[:, 0]\n",
    "    X.append(vals)\n",
    "X = np.concatenate(X, axis=1)"
   ]
  },
  {
   "cell_type": "markdown",
   "metadata": {},
   "source": [
    "### Experiment"
   ]
  },
  {
   "cell_type": "code",
   "execution_count": 4,
   "metadata": {},
   "outputs": [],
   "source": [
    "# parameter settings\n",
    "seed = 0                    # random seed\n",
    "\n",
    "# parameter settings for sampling\n",
    "Nsample = 2000              # number of data to sample\n",
    "sampled_ypos = [0.5, 0.5]   # the ratio of positive decisions '\\alpha' in sampling\n",
    "\n",
    "# parameter settings for complainer\n",
    "Nref = 1278                 # number of referential data"
   ]
  },
  {
   "cell_type": "code",
   "execution_count": 5,
   "metadata": {},
   "outputs": [],
   "source": [
    "def sample_and_evaluate(X, S, Y, Nref=1278, Nsample=2000, sampled_ypos=[0.5, 0.5], seed=0):\n",
    "    \n",
    "    # load data\n",
    "    Xbase, Xref, Sbase, Sref, Ybase, Yref = train_test_split(X, S, Y, test_size=Nref, random_state=seed)\n",
    "    N = Xbase.shape[0]\n",
    "    scaler = StandardScaler()\n",
    "    scaler.fit(Xbase)\n",
    "    Xbase = scaler.transform(Xbase)\n",
    "    Xref = scaler.transform(Xref)\n",
    "\n",
    "    # wasserstein distance between base and ref\n",
    "    np.random.seed(seed)\n",
    "    idx = np.random.permutation(Xbase.shape[0])[:Nsample]\n",
    "    dx, dx_s1, dx_s0 = compute_wasserstein(Xbase[idx, :], Sbase[idx], Xref, Sref, timeout=10.0)\n",
    "\n",
    "    # demographic parity\n",
    "    Z = split_to_four(Xbase, Sbase, Ybase)\n",
    "    parity = demographic_parity([z[:, -1] for z in Z])\n",
    "    \n",
    "    # sampling\n",
    "    results = [[parity, dx, dx_s1, dx_s0]]\n",
    "    sampled_spos = np.mean(Sbase)\n",
    "    K = computeK(Z, Nsample, sampled_spos, sampled_ypos)\n",
    "    for i, sampling in enumerate(['case-control', 'stealth']):\n",
    "        #print('%s: sampling ...' % (sampling,), end='')\n",
    "        np.random.seed(seed+i)\n",
    "        if sampling == 'case-control':\n",
    "            p = case_control_sampling([z[:, :-1] for z in Z], K)\n",
    "        elif sampling == 'stealth':\n",
    "            p = stealth_sampling.stealth_sampling([z[:, :-1] for z in Z], K, path='./', prefix='compas', timeout=30.0)\n",
    "        idx = np.random.choice(N, sum(K), p=np.concatenate(p), replace=False)\n",
    "        Xs = np.concatenate([z[:, :-2] for z in Z], axis=0)[idx, :]\n",
    "        Ss = np.concatenate([z[:, -2] for z in Z], axis=0)[idx]\n",
    "        Ts = np.concatenate([z[:, -1] for z in Z], axis=0)[idx]\n",
    "        #print('done.')\n",
    "        \n",
    "        # demographic parity of the sampled data\n",
    "        #print('%s: evaluating ...' % (sampling,), end='')\n",
    "        Zs = split_to_four(Xs, Ss, Ts)\n",
    "        parity = demographic_parity([z[:, -1] for z in Zs])\n",
    "        \n",
    "        # wasserstein disttance\n",
    "        dx, dx_s1, dx_s0 = compute_wasserstein(Xs, Ss, Xref, Sref, timeout=10.0)\n",
    "        #print('done.')\n",
    "        \n",
    "        results.append([parity, dx, dx_s1, dx_s0])\n",
    "    return results"
   ]
  },
  {
   "cell_type": "markdown",
   "metadata": {},
   "source": [
    "#### Experiment (One Run)"
   ]
  },
  {
   "cell_type": "code",
   "execution_count": 6,
   "metadata": {},
   "outputs": [
    {
     "name": "stdout",
     "output_type": "stream",
     "text": [
      "Result (alpha = 0.50, seed=0)\n"
     ]
    },
    {
     "data": {
      "text/html": [
       "<div>\n",
       "<style scoped>\n",
       "    .dataframe tbody tr th:only-of-type {\n",
       "        vertical-align: middle;\n",
       "    }\n",
       "\n",
       "    .dataframe tbody tr th {\n",
       "        vertical-align: top;\n",
       "    }\n",
       "\n",
       "    .dataframe thead th {\n",
       "        text-align: right;\n",
       "    }\n",
       "</style>\n",
       "<table border=\"1\" class=\"dataframe\">\n",
       "  <thead>\n",
       "    <tr style=\"text-align: right;\">\n",
       "      <th></th>\n",
       "      <th>PD</th>\n",
       "      <th>WD on Pr[x]</th>\n",
       "      <th>WD on Pr[x|s=1]</th>\n",
       "      <th>WD on Pr[x|s=0]</th>\n",
       "    </tr>\n",
       "  </thead>\n",
       "  <tbody>\n",
       "    <tr>\n",
       "      <th>Baseline</th>\n",
       "      <td>0.245317</td>\n",
       "      <td>0.771823</td>\n",
       "      <td>0.69127</td>\n",
       "      <td>0.960298</td>\n",
       "    </tr>\n",
       "    <tr>\n",
       "      <th>Case-control</th>\n",
       "      <td>0.080242</td>\n",
       "      <td>0.960744</td>\n",
       "      <td>1.50996</td>\n",
       "      <td>0.839024</td>\n",
       "    </tr>\n",
       "    <tr>\n",
       "      <th>Stealth</th>\n",
       "      <td>0.002429</td>\n",
       "      <td>0.752672</td>\n",
       "      <td>1.07511</td>\n",
       "      <td>0.6794</td>\n",
       "    </tr>\n",
       "  </tbody>\n",
       "</table>\n",
       "</div>"
      ],
      "text/plain": [
       "                    PD WD on Pr[x] WD on Pr[x|s=1] WD on Pr[x|s=0]\n",
       "Baseline      0.245317    0.771823         0.69127        0.960298\n",
       "Case-control  0.080242    0.960744         1.50996        0.839024\n",
       "Stealth       0.002429    0.752672         1.07511          0.6794"
      ]
     },
     "execution_count": 6,
     "metadata": {},
     "output_type": "execute_result"
    }
   ],
   "source": [
    "result = sample_and_evaluate(X, S, Y, Nref=Nref, Nsample=Nsample, sampled_ypos=sampled_ypos, seed=seed)\n",
    "df = pd.DataFrame(result)\n",
    "df.index = ['Baseline', 'Case-control', 'Stealth']\n",
    "df.columns = ['DP', 'WD on Pr[x]', 'WD on Pr[x|s=1]', 'WD on Pr[x|s=0]']\n",
    "print('Result (alpha = %.2f, seed=%d)' % (sampled_ypos[0], seed))\n",
    "df"
   ]
  },
  {
   "cell_type": "markdown",
   "metadata": {},
   "source": [
    "#### Experiment (10 Runs)"
   ]
  },
  {
   "cell_type": "code",
   "execution_count": 7,
   "metadata": {},
   "outputs": [
    {
     "name": "stdout",
     "output_type": "stream",
     "text": [
      "Average Result of 10 runs (alpha = 0.50)\n"
     ]
    },
    {
     "data": {
      "text/html": [
       "<div>\n",
       "<style scoped>\n",
       "    .dataframe tbody tr th:only-of-type {\n",
       "        vertical-align: middle;\n",
       "    }\n",
       "\n",
       "    .dataframe tbody tr th {\n",
       "        vertical-align: top;\n",
       "    }\n",
       "\n",
       "    .dataframe thead th {\n",
       "        text-align: right;\n",
       "    }\n",
       "</style>\n",
       "<table border=\"1\" class=\"dataframe\">\n",
       "  <thead>\n",
       "    <tr style=\"text-align: right;\">\n",
       "      <th></th>\n",
       "      <th>PD</th>\n",
       "      <th>WD on Pr[x]</th>\n",
       "      <th>WD on Pr[x|s=1]</th>\n",
       "      <th>WD on Pr[x|s=0]</th>\n",
       "    </tr>\n",
       "  </thead>\n",
       "  <tbody>\n",
       "    <tr>\n",
       "      <th>Baseline</th>\n",
       "      <td>0.244972</td>\n",
       "      <td>0.731744</td>\n",
       "      <td>0.828592</td>\n",
       "      <td>0.728760</td>\n",
       "    </tr>\n",
       "    <tr>\n",
       "      <th>Case-control</th>\n",
       "      <td>0.076987</td>\n",
       "      <td>0.762208</td>\n",
       "      <td>0.976887</td>\n",
       "      <td>0.799211</td>\n",
       "    </tr>\n",
       "    <tr>\n",
       "      <th>Stealth</th>\n",
       "      <td>0.014039</td>\n",
       "      <td>0.742240</td>\n",
       "      <td>0.873354</td>\n",
       "      <td>0.713801</td>\n",
       "    </tr>\n",
       "  </tbody>\n",
       "</table>\n",
       "</div>"
      ],
      "text/plain": [
       "                    PD  WD on Pr[x]  WD on Pr[x|s=1]  WD on Pr[x|s=0]\n",
       "Baseline      0.244972     0.731744         0.828592         0.728760\n",
       "Case-control  0.076987     0.762208         0.976887         0.799211\n",
       "Stealth       0.014039     0.742240         0.873354         0.713801"
      ]
     },
     "execution_count": 7,
     "metadata": {},
     "output_type": "execute_result"
    }
   ],
   "source": [
    "num_itr = 10\n",
    "result_all = []\n",
    "for i in range(num_itr):\n",
    "    result_i = sample_and_evaluate(X, S, Y, Nref=Nref, Nsample=Nsample, sampled_ypos=sampled_ypos, seed=i)\n",
    "    result_all.append(result_i)\n",
    "result_all = np.array(result_all)\n",
    "df = pd.DataFrame(np.mean(result_all, axis=0))\n",
    "df.index = ['Baseline', 'Case-control', 'Stealth']\n",
    "df.columns = ['DP', 'WD on Pr[x]', 'WD on Pr[x|s=1]', 'WD on Pr[x|s=0]']\n",
    "print('Average Result of %d runs (alpha = %.2f)' % (num_itr, sampled_ypos[0]))\n",
    "df"
   ]
  }
 ],
 "metadata": {
  "kernelspec": {
   "display_name": "Python 3",
   "language": "python",
   "name": "python3"
  },
  "language_info": {
   "codemirror_mode": {
    "name": "ipython",
    "version": 3
   },
   "file_extension": ".py",
   "mimetype": "text/x-python",
   "name": "python",
   "nbconvert_exporter": "python",
   "pygments_lexer": "ipython3",
   "version": "3.7.1"
  }
 },
 "nbformat": 4,
 "nbformat_minor": 2
}
